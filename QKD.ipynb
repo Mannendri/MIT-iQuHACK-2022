{
 "cells": [
  {
   "cell_type": "code",
   "execution_count": 1,
   "id": "276c686f-87de-433c-9350-039c3c40e83b",
   "metadata": {},
   "outputs": [
    {
     "name": "stdout",
     "output_type": "stream",
     "text": [
      "Collecting qiskit[visualization]\n",
      "  Downloading qiskit-0.34.1.tar.gz (13 kB)\n",
      "  Preparing metadata (setup.py) ... \u001b[?25ldone\n",
      "\u001b[?25hCollecting qiskit-terra==0.19.1\n",
      "  Downloading qiskit_terra-0.19.1-cp39-cp39-manylinux2010_x86_64.whl (6.5 MB)\n",
      "     |████████████████████████████████| 6.5 MB 36.4 MB/s            \n",
      "\u001b[?25hCollecting qiskit-aer==0.10.2\n",
      "  Downloading qiskit_aer-0.10.2-cp39-cp39-manylinux_2_12_x86_64.manylinux2010_x86_64.whl (17.9 MB)\n",
      "     |████████████████████████████████| 17.9 MB 114.2 MB/s            \n",
      "\u001b[?25hCollecting qiskit-ibmq-provider==0.18.3\n",
      "  Downloading qiskit_ibmq_provider-0.18.3-py3-none-any.whl (238 kB)\n",
      "     |████████████████████████████████| 238 kB 149.5 MB/s            \n",
      "\u001b[?25hCollecting qiskit-ignis==0.7.0\n",
      "  Downloading qiskit_ignis-0.7.0-py3-none-any.whl (200 kB)\n",
      "     |████████████████████████████████| 200 kB 156.0 MB/s            \n",
      "\u001b[?25hRequirement already satisfied: matplotlib>=2.1 in /opt/conda/lib/python3.9/site-packages (from qiskit[visualization]) (3.5.1)\n",
      "Requirement already satisfied: ipywidgets>=7.3.0 in /opt/conda/lib/python3.9/site-packages (from qiskit[visualization]) (7.6.5)\n",
      "Collecting pydot\n",
      "  Downloading pydot-1.4.2-py2.py3-none-any.whl (21 kB)\n",
      "Requirement already satisfied: pillow>=4.2.1 in /opt/conda/lib/python3.9/site-packages (from qiskit[visualization]) (9.0.0)\n",
      "Collecting pylatexenc>=1.4\n",
      "  Downloading pylatexenc-2.10.tar.gz (162 kB)\n",
      "     |████████████████████████████████| 162 kB 146.9 MB/s            \n",
      "\u001b[?25h  Preparing metadata (setup.py) ... \u001b[?25ldone\n",
      "\u001b[?25hCollecting seaborn>=0.9.0\n",
      "  Downloading seaborn-0.11.2-py3-none-any.whl (292 kB)\n",
      "     |████████████████████████████████| 292 kB 135.3 MB/s            \n",
      "\u001b[?25hRequirement already satisfied: pygments>=2.4 in /opt/conda/lib/python3.9/site-packages (from qiskit[visualization]) (2.10.0)\n",
      "Requirement already satisfied: scipy>=1.0 in /opt/conda/lib/python3.9/site-packages (from qiskit-aer==0.10.2->qiskit[visualization]) (1.7.3)\n",
      "Requirement already satisfied: numpy>=1.16.3 in /opt/conda/lib/python3.9/site-packages (from qiskit-aer==0.10.2->qiskit[visualization]) (1.20.3)\n",
      "Requirement already satisfied: websocket-client>=1.0.1 in /opt/conda/lib/python3.9/site-packages (from qiskit-ibmq-provider==0.18.3->qiskit[visualization]) (1.2.3)\n",
      "Collecting requests-ntlm>=1.1.0\n",
      "  Downloading requests_ntlm-1.1.0-py2.py3-none-any.whl (5.7 kB)\n",
      "Requirement already satisfied: urllib3>=1.21.1 in /opt/conda/lib/python3.9/site-packages (from qiskit-ibmq-provider==0.18.3->qiskit[visualization]) (1.26.7)\n",
      "Requirement already satisfied: python-dateutil>=2.8.0 in /opt/conda/lib/python3.9/site-packages (from qiskit-ibmq-provider==0.18.3->qiskit[visualization]) (2.8.2)\n",
      "Requirement already satisfied: requests>=2.19 in /opt/conda/lib/python3.9/site-packages (from qiskit-ibmq-provider==0.18.3->qiskit[visualization]) (2.26.0)\n",
      "Requirement already satisfied: setuptools>=40.1.0 in /opt/conda/lib/python3.9/site-packages (from qiskit-ignis==0.7.0->qiskit[visualization]) (59.4.0)\n",
      "Collecting retworkx>=0.8.0\n",
      "  Downloading retworkx-0.11.0-cp39-cp39-manylinux_2_5_x86_64.manylinux1_x86_64.manylinux_2_12_x86_64.manylinux2010_x86_64.whl (1.6 MB)\n",
      "     |████████████████████████████████| 1.6 MB 122.3 MB/s            \n",
      "\u001b[?25hRequirement already satisfied: psutil>=5 in /opt/conda/lib/python3.9/site-packages (from qiskit-terra==0.19.1->qiskit[visualization]) (5.8.0)\n",
      "Collecting stevedore>=3.0.0\n",
      "  Downloading stevedore-3.5.0-py3-none-any.whl (49 kB)\n",
      "     |████████████████████████████████| 49 kB 709 kB/s             \n",
      "\u001b[?25hCollecting symengine>=0.8\n",
      "  Downloading symengine-0.8.1-cp39-cp39-manylinux2010_x86_64.whl (38.3 MB)\n",
      "     |████████████████████████████████| 38.3 MB 140.6 MB/s            \n",
      "\u001b[?25hCollecting python-constraint>=1.4\n",
      "  Downloading python-constraint-1.4.0.tar.bz2 (18 kB)\n",
      "  Preparing metadata (setup.py) ... \u001b[?25ldone\n",
      "\u001b[?25hCollecting dill>=0.3\n",
      "  Downloading dill-0.3.4-py2.py3-none-any.whl (86 kB)\n",
      "     |████████████████████████████████| 86 kB 834 kB/s              \n",
      "\u001b[?25hCollecting ply>=3.10\n",
      "  Downloading ply-3.11-py2.py3-none-any.whl (49 kB)\n",
      "     |████████████████████████████████| 49 kB 951 kB/s              \n",
      "\u001b[?25hCollecting tweedledum<2.0,>=1.1\n",
      "  Downloading tweedledum-1.1.1-cp39-cp39-manylinux_2_12_x86_64.manylinux2010_x86_64.whl (930 kB)\n",
      "     |████████████████████████████████| 930 kB 123.9 MB/s            \n",
      "\u001b[?25hCollecting sympy>=1.3\n",
      "  Downloading sympy-1.9-py3-none-any.whl (6.2 MB)\n",
      "     |████████████████████████████████| 6.2 MB 141.0 MB/s            \n",
      "\u001b[?25hRequirement already satisfied: widgetsnbextension~=3.5.0 in /opt/conda/lib/python3.9/site-packages (from ipywidgets>=7.3.0->qiskit[visualization]) (3.5.2)\n",
      "Requirement already satisfied: ipython-genutils~=0.2.0 in /opt/conda/lib/python3.9/site-packages (from ipywidgets>=7.3.0->qiskit[visualization]) (0.2.0)\n",
      "Requirement already satisfied: ipykernel>=4.5.1 in /opt/conda/lib/python3.9/site-packages (from ipywidgets>=7.3.0->qiskit[visualization]) (6.6.0)\n",
      "Requirement already satisfied: traitlets>=4.3.1 in /opt/conda/lib/python3.9/site-packages (from ipywidgets>=7.3.0->qiskit[visualization]) (5.1.1)\n",
      "Requirement already satisfied: ipython>=4.0.0 in /opt/conda/lib/python3.9/site-packages (from ipywidgets>=7.3.0->qiskit[visualization]) (7.30.1)\n",
      "Requirement already satisfied: nbformat>=4.2.0 in /opt/conda/lib/python3.9/site-packages (from ipywidgets>=7.3.0->qiskit[visualization]) (5.1.3)\n",
      "Requirement already satisfied: jupyterlab-widgets>=1.0.0 in /opt/conda/lib/python3.9/site-packages (from ipywidgets>=7.3.0->qiskit[visualization]) (1.0.2)\n",
      "Requirement already satisfied: packaging>=20.0 in /opt/conda/lib/python3.9/site-packages (from matplotlib>=2.1->qiskit[visualization]) (21.3)\n",
      "Requirement already satisfied: kiwisolver>=1.0.1 in /opt/conda/lib/python3.9/site-packages (from matplotlib>=2.1->qiskit[visualization]) (1.3.2)\n",
      "Requirement already satisfied: pyparsing>=2.2.1 in /opt/conda/lib/python3.9/site-packages (from matplotlib>=2.1->qiskit[visualization]) (3.0.6)\n",
      "Requirement already satisfied: fonttools>=4.22.0 in /opt/conda/lib/python3.9/site-packages (from matplotlib>=2.1->qiskit[visualization]) (4.29.0)\n",
      "Requirement already satisfied: cycler>=0.10 in /opt/conda/lib/python3.9/site-packages (from matplotlib>=2.1->qiskit[visualization]) (0.11.0)\n",
      "Collecting pandas>=0.23\n",
      "  Downloading pandas-1.4.0-cp39-cp39-manylinux_2_17_x86_64.manylinux2014_x86_64.whl (11.7 MB)\n",
      "     |████████████████████████████████| 11.7 MB 122.3 MB/s            \n",
      "\u001b[?25hRequirement already satisfied: debugpy<2.0,>=1.0.0 in /opt/conda/lib/python3.9/site-packages (from ipykernel>=4.5.1->ipywidgets>=7.3.0->qiskit[visualization]) (1.5.1)\n",
      "Requirement already satisfied: matplotlib-inline<0.2.0,>=0.1.0 in /opt/conda/lib/python3.9/site-packages (from ipykernel>=4.5.1->ipywidgets>=7.3.0->qiskit[visualization]) (0.1.3)\n",
      "Requirement already satisfied: tornado<7.0,>=4.2 in /opt/conda/lib/python3.9/site-packages (from ipykernel>=4.5.1->ipywidgets>=7.3.0->qiskit[visualization]) (6.1)\n",
      "Requirement already satisfied: jupyter-client<8.0 in /opt/conda/lib/python3.9/site-packages (from ipykernel>=4.5.1->ipywidgets>=7.3.0->qiskit[visualization]) (7.1.0)\n",
      "Requirement already satisfied: backcall in /opt/conda/lib/python3.9/site-packages (from ipython>=4.0.0->ipywidgets>=7.3.0->qiskit[visualization]) (0.2.0)\n",
      "Requirement already satisfied: pickleshare in /opt/conda/lib/python3.9/site-packages (from ipython>=4.0.0->ipywidgets>=7.3.0->qiskit[visualization]) (0.7.5)\n",
      "Requirement already satisfied: pexpect>4.3 in /opt/conda/lib/python3.9/site-packages (from ipython>=4.0.0->ipywidgets>=7.3.0->qiskit[visualization]) (4.8.0)\n",
      "Requirement already satisfied: decorator in /opt/conda/lib/python3.9/site-packages (from ipython>=4.0.0->ipywidgets>=7.3.0->qiskit[visualization]) (5.1.0)\n",
      "Requirement already satisfied: jedi>=0.16 in /opt/conda/lib/python3.9/site-packages (from ipython>=4.0.0->ipywidgets>=7.3.0->qiskit[visualization]) (0.18.1)\n",
      "Requirement already satisfied: prompt-toolkit!=3.0.0,!=3.0.1,<3.1.0,>=2.0.0 in /opt/conda/lib/python3.9/site-packages (from ipython>=4.0.0->ipywidgets>=7.3.0->qiskit[visualization]) (3.0.24)\n",
      "Requirement already satisfied: jsonschema!=2.5.0,>=2.4 in /opt/conda/lib/python3.9/site-packages (from nbformat>=4.2.0->ipywidgets>=7.3.0->qiskit[visualization]) (4.2.1)\n",
      "Requirement already satisfied: jupyter-core in /opt/conda/lib/python3.9/site-packages (from nbformat>=4.2.0->ipywidgets>=7.3.0->qiskit[visualization]) (4.9.1)\n",
      "Requirement already satisfied: pytz>=2020.1 in /opt/conda/lib/python3.9/site-packages (from pandas>=0.23->seaborn>=0.9.0->qiskit[visualization]) (2021.3)\n",
      "Requirement already satisfied: six>=1.5 in /opt/conda/lib/python3.9/site-packages (from python-dateutil>=2.8.0->qiskit-ibmq-provider==0.18.3->qiskit[visualization]) (1.16.0)\n",
      "Requirement already satisfied: certifi>=2017.4.17 in /opt/conda/lib/python3.9/site-packages (from requests>=2.19->qiskit-ibmq-provider==0.18.3->qiskit[visualization]) (2021.10.8)\n",
      "Requirement already satisfied: charset-normalizer~=2.0.0 in /opt/conda/lib/python3.9/site-packages (from requests>=2.19->qiskit-ibmq-provider==0.18.3->qiskit[visualization]) (2.0.9)\n",
      "Requirement already satisfied: idna<4,>=2.5 in /opt/conda/lib/python3.9/site-packages (from requests>=2.19->qiskit-ibmq-provider==0.18.3->qiskit[visualization]) (3.1)\n",
      "Requirement already satisfied: cryptography>=1.3 in /opt/conda/lib/python3.9/site-packages (from requests-ntlm>=1.1.0->qiskit-ibmq-provider==0.18.3->qiskit[visualization]) (36.0.0)\n",
      "Collecting ntlm-auth>=1.0.2\n",
      "  Downloading ntlm_auth-1.5.0-py2.py3-none-any.whl (29 kB)\n",
      "Collecting pbr!=2.1.0,>=2.0.0\n",
      "  Downloading pbr-5.8.0-py2.py3-none-any.whl (112 kB)\n",
      "     |████████████████████████████████| 112 kB 165.3 MB/s            \n",
      "\u001b[?25hCollecting mpmath>=0.19\n",
      "  Downloading mpmath-1.2.1-py3-none-any.whl (532 kB)\n",
      "     |████████████████████████████████| 532 kB 149.8 MB/s            \n",
      "\u001b[?25hRequirement already satisfied: notebook>=4.4.1 in /opt/conda/lib/python3.9/site-packages (from widgetsnbextension~=3.5.0->ipywidgets>=7.3.0->qiskit[visualization]) (6.4.6)\n",
      "Requirement already satisfied: cffi>=1.12 in /opt/conda/lib/python3.9/site-packages (from cryptography>=1.3->requests-ntlm>=1.1.0->qiskit-ibmq-provider==0.18.3->qiskit[visualization]) (1.15.0)\n",
      "Requirement already satisfied: parso<0.9.0,>=0.8.0 in /opt/conda/lib/python3.9/site-packages (from jedi>=0.16->ipython>=4.0.0->ipywidgets>=7.3.0->qiskit[visualization]) (0.8.3)\n",
      "Requirement already satisfied: attrs>=17.4.0 in /opt/conda/lib/python3.9/site-packages (from jsonschema!=2.5.0,>=2.4->nbformat>=4.2.0->ipywidgets>=7.3.0->qiskit[visualization]) (21.2.0)\n",
      "Requirement already satisfied: pyrsistent!=0.17.0,!=0.17.1,!=0.17.2,>=0.14.0 in /opt/conda/lib/python3.9/site-packages (from jsonschema!=2.5.0,>=2.4->nbformat>=4.2.0->ipywidgets>=7.3.0->qiskit[visualization]) (0.18.0)\n",
      "Requirement already satisfied: pyzmq>=13 in /opt/conda/lib/python3.9/site-packages (from jupyter-client<8.0->ipykernel>=4.5.1->ipywidgets>=7.3.0->qiskit[visualization]) (19.0.2)\n",
      "Requirement already satisfied: nest-asyncio>=1.5 in /opt/conda/lib/python3.9/site-packages (from jupyter-client<8.0->ipykernel>=4.5.1->ipywidgets>=7.3.0->qiskit[visualization]) (1.5.4)\n",
      "Requirement already satisfied: entrypoints in /opt/conda/lib/python3.9/site-packages (from jupyter-client<8.0->ipykernel>=4.5.1->ipywidgets>=7.3.0->qiskit[visualization]) (0.3)\n",
      "Requirement already satisfied: jinja2 in /opt/conda/lib/python3.9/site-packages (from notebook>=4.4.1->widgetsnbextension~=3.5.0->ipywidgets>=7.3.0->qiskit[visualization]) (3.0.3)\n",
      "Requirement already satisfied: Send2Trash>=1.8.0 in /opt/conda/lib/python3.9/site-packages (from notebook>=4.4.1->widgetsnbextension~=3.5.0->ipywidgets>=7.3.0->qiskit[visualization]) (1.8.0)\n",
      "Requirement already satisfied: argon2-cffi in /opt/conda/lib/python3.9/site-packages (from notebook>=4.4.1->widgetsnbextension~=3.5.0->ipywidgets>=7.3.0->qiskit[visualization]) (21.1.0)\n",
      "Requirement already satisfied: terminado>=0.8.3 in /opt/conda/lib/python3.9/site-packages (from notebook>=4.4.1->widgetsnbextension~=3.5.0->ipywidgets>=7.3.0->qiskit[visualization]) (0.12.1)\n",
      "Requirement already satisfied: nbconvert in /opt/conda/lib/python3.9/site-packages (from notebook>=4.4.1->widgetsnbextension~=3.5.0->ipywidgets>=7.3.0->qiskit[visualization]) (6.3.0)\n",
      "Requirement already satisfied: prometheus-client in /opt/conda/lib/python3.9/site-packages (from notebook>=4.4.1->widgetsnbextension~=3.5.0->ipywidgets>=7.3.0->qiskit[visualization]) (0.12.0)\n",
      "Requirement already satisfied: ptyprocess>=0.5 in /opt/conda/lib/python3.9/site-packages (from pexpect>4.3->ipython>=4.0.0->ipywidgets>=7.3.0->qiskit[visualization]) (0.7.0)\n",
      "Requirement already satisfied: wcwidth in /opt/conda/lib/python3.9/site-packages (from prompt-toolkit!=3.0.0,!=3.0.1,<3.1.0,>=2.0.0->ipython>=4.0.0->ipywidgets>=7.3.0->qiskit[visualization]) (0.2.5)\n",
      "Requirement already satisfied: pycparser in /opt/conda/lib/python3.9/site-packages (from cffi>=1.12->cryptography>=1.3->requests-ntlm>=1.1.0->qiskit-ibmq-provider==0.18.3->qiskit[visualization]) (2.21)\n",
      "Requirement already satisfied: MarkupSafe>=2.0 in /opt/conda/lib/python3.9/site-packages (from jinja2->notebook>=4.4.1->widgetsnbextension~=3.5.0->ipywidgets>=7.3.0->qiskit[visualization]) (2.0.1)\n",
      "Requirement already satisfied: mistune<2,>=0.8.1 in /opt/conda/lib/python3.9/site-packages (from nbconvert->notebook>=4.4.1->widgetsnbextension~=3.5.0->ipywidgets>=7.3.0->qiskit[visualization]) (0.8.4)\n",
      "Requirement already satisfied: pandocfilters>=1.4.1 in /opt/conda/lib/python3.9/site-packages (from nbconvert->notebook>=4.4.1->widgetsnbextension~=3.5.0->ipywidgets>=7.3.0->qiskit[visualization]) (1.5.0)\n",
      "Requirement already satisfied: jupyterlab-pygments in /opt/conda/lib/python3.9/site-packages (from nbconvert->notebook>=4.4.1->widgetsnbextension~=3.5.0->ipywidgets>=7.3.0->qiskit[visualization]) (0.1.2)\n",
      "Requirement already satisfied: bleach in /opt/conda/lib/python3.9/site-packages (from nbconvert->notebook>=4.4.1->widgetsnbextension~=3.5.0->ipywidgets>=7.3.0->qiskit[visualization]) (4.1.0)\n",
      "Requirement already satisfied: defusedxml in /opt/conda/lib/python3.9/site-packages (from nbconvert->notebook>=4.4.1->widgetsnbextension~=3.5.0->ipywidgets>=7.3.0->qiskit[visualization]) (0.7.1)\n",
      "Requirement already satisfied: testpath in /opt/conda/lib/python3.9/site-packages (from nbconvert->notebook>=4.4.1->widgetsnbextension~=3.5.0->ipywidgets>=7.3.0->qiskit[visualization]) (0.5.0)\n",
      "Requirement already satisfied: nbclient<0.6.0,>=0.5.0 in /opt/conda/lib/python3.9/site-packages (from nbconvert->notebook>=4.4.1->widgetsnbextension~=3.5.0->ipywidgets>=7.3.0->qiskit[visualization]) (0.5.9)\n",
      "Requirement already satisfied: webencodings in /opt/conda/lib/python3.9/site-packages (from bleach->nbconvert->notebook>=4.4.1->widgetsnbextension~=3.5.0->ipywidgets>=7.3.0->qiskit[visualization]) (0.5.1)\n",
      "Building wheels for collected packages: pylatexenc, qiskit, python-constraint\n",
      "  Building wheel for pylatexenc (setup.py) ... \u001b[?25ldone\n",
      "\u001b[?25h  Created wheel for pylatexenc: filename=pylatexenc-2.10-py3-none-any.whl size=136833 sha256=07b5344a97cb521478a9c9ae3706cff7c5f48e4b6f636f5a785e4cef0d0e7bdf\n",
      "  Stored in directory: /home/jovyan/.cache/pip/wheels/a3/68/66/2f15abd0673d83c02f354115feedeb89c3daed2ac319b11090\n",
      "  Building wheel for qiskit (setup.py) ... \u001b[?25ldone\n",
      "\u001b[?25h  Created wheel for qiskit: filename=qiskit-0.34.1-py3-none-any.whl size=11768 sha256=e6ba469a0de69a047b9ff701d8c27620d78045424d3d092774d99fe5cdce80c8\n",
      "  Stored in directory: /home/jovyan/.cache/pip/wheels/38/52/9c/0bb4d128ca7d42e9ebee9d3deebb4e617d60b73cd4f802ee4c\n",
      "  Building wheel for python-constraint (setup.py) ... \u001b[?25ldone\n",
      "\u001b[?25h  Created wheel for python-constraint: filename=python_constraint-1.4.0-py2.py3-none-any.whl size=24081 sha256=9a13351ed92ffa43098f2f348f9cd513a5fa560031f30aedf59e3523bda9041e\n",
      "  Stored in directory: /home/jovyan/.cache/pip/wheels/51/36/1f/c2ccb8dc4eba38c5215636d4ae2c480b32069cab0376bcc1a4\n",
      "Successfully built pylatexenc qiskit python-constraint\n",
      "Installing collected packages: pbr, mpmath, tweedledum, sympy, symengine, stevedore, retworkx, python-constraint, ply, ntlm-auth, dill, requests-ntlm, qiskit-terra, qiskit-ignis, qiskit-ibmq-provider, qiskit-aer, pandas, seaborn, qiskit, pylatexenc, pydot\n",
      "Successfully installed dill-0.3.4 mpmath-1.2.1 ntlm-auth-1.5.0 pandas-1.4.0 pbr-5.8.0 ply-3.11 pydot-1.4.2 pylatexenc-2.10 python-constraint-1.4.0 qiskit-0.34.1 qiskit-aer-0.10.2 qiskit-ibmq-provider-0.18.3 qiskit-ignis-0.7.0 qiskit-terra-0.19.1 requests-ntlm-1.1.0 retworkx-0.11.0 seaborn-0.11.2 stevedore-3.5.0 symengine-0.8.1 sympy-1.9 tweedledum-1.1.1\n"
     ]
    }
   ],
   "source": [
    "!pip install qiskit[visualization]"
   ]
  },
  {
   "cell_type": "code",
   "execution_count": 2,
   "id": "8cd3fc6e-2758-4645-a225-ca2f33d6508a",
   "metadata": {},
   "outputs": [],
   "source": [
    "import numpy as np\n",
    "# Importing standard Qiskit libraries\n",
    "from qiskit import QuantumCircuit, execute, transpile, Aer, IBMQ\n",
    "from qiskit.tools.jupyter import *\n",
    "from qiskit.visualization import *\n",
    "from random import getrandbits\n",
    "import binascii"
   ]
  },
  {
   "cell_type": "code",
   "execution_count": 13,
   "id": "dd4a47e0-2fbf-4e8e-ae28-9e6882e8d80e",
   "metadata": {},
   "outputs": [
    {
     "name": "stdout",
     "output_type": "stream",
     "text": [
      "['0', '1', '0', '0', '1', '0', '1', '1', '1', '0', '0', '1', '1', '1', '0', '0', '1', '1', '0', '1', '0', '0', '0', '0', '1', '0', '1', '1', '0', '1', '1', '1', '0', '0', '0', '0', '1', '1', '1', '1', '0', '0', '0', '0', '0', '1', '1', '0', '1', '0', '0', '1', '0', '0', '0', '1', '1', '1', '1', '1', '0', '1', '1', '0', '0', '1', '0', '1', '0', '1', '0', '0', '1', '1', '0', '0', '1', '1', '1', '0', '0', '1', '0', '1', '0', '1', '1', '0', '1', '0', '1', '0', '1', '0', '0', '0', '0', '0', '1', '1', '1', '1', '0', '0', '0', '1', '1', '0', '1', '0', '0', '0', '1', '0', '1', '0', '1', '0', '0', '0', '1', '0', '0', '0', '0', '0', '1', '0', '0', '1', '1', '1', '1', '1', '0', '0', '0', '1', '1', '1', '1', '0', '1', '1', '0', '0', '1', '1', '0', '0', '1', '1', '1', '1', '1', '1', '0', '1', '1', '0', '0', '1', '0', '0', '1', '1', '1', '0', '0', '0', '1', '0', '1', '1', '0', '0', '1', '1', '0', '0', '0', '1', '0', '0', '0', '0', '0', '1', '1', '1', '1', '1', '1', '1', '0', '0', '1', '1', '1', '0', '0', '1', '1', '0', '1', '0', '1', '0', '0', '0', '1', '1', '0', '1', '0', '0', '1', '1', '1', '0', '1', '0', '1', '0', '1', '0', '1', '1', '1', '1', '0', '0', '1', '1', '1', '0', '1', '1', '0', '1', '0', '0', '1', '1', '0', '0', '1', '1', '0', '1', '1', '0', '0', '0', '1', '0', '0', '1', '1', '1', '1', '1', '0', '0', '0', '0', '1', '0', '0', '1', '0', '1', '0', '0', '1', '0', '1', '1', '1', '1', '1', '1', '0', '0', '1', '0', '1', '1', '1', '0', '1', '1', '1', '0', '0', '0', '0', '0', '0', '0', '0', '1', '1', '1', '0', '1', '0', '1', '1', '0', '0', '0', '1', '1', '1', '1', '1', '1', '1', '0', '1', '0', '0', '1', '0', '0', '0', '1', '0', '0', '1', '1', '1', '0', '1', '0', '1', '0', '1', '1', '0', '1', '1', '1', '0', '0', '0', '0', '0', '1', '1', '1', '0', '1', '0', '1', '1', '1', '1', '1', '1', '1', '0', '0', '1', '0', '0', '1', '1', '0', '1', '1', '0', '0', '0', '0', '0', '1', '1', '1', '0', '1', '0', '0', '0', '0', '1', '0', '0', '1', '0', '0', '0', '1', '1', '1', '1', '1', '1', '1', '0', '0', '1', '0', '1', '0', '0', '0', '1', '1', '1', '1', '0', '0', '0', '1', '1', '0', '0', '0', '0', '0', '0', '1', '1', '1', '1', '1', '0', '1', '0', '0', '0', '0', '0', '0', '0', '1', '1', '1', '1', '0', '1', '0', '0', '1', '1', '1', '1', '1', '0', '1', '1', '0', '0', '1', '0', '0', '1', '1', '1', '0', '0', '0', '1', '0', '0', '0', '1', '1', '0', '1', '1', '0', '1', '0', '1', '1', '0', '1', '1', '1', '1', '1', '0', '1', '0', '1', '0', '0', '1', '1', '0', '1', '0', '1', '0', '1', '0', '1', '0', '1', '0', '1', '1', '0', '0', '1', '1', '1', '0', '0', '1', '0', '1', '0', '0', '0', '0', '0', '0', '1', '0', '0', '1', '1', '1', '1', '0', '1', '0', '0', '1', '1', '0', '1', '0', '0', '1', '1', '0', '0', '0', '0', '1', '1', '1', '1', '1', '1', '1', '1', '1', '1', '1', '0', '0', '1', '0', '0', '0', '1', '0', '1', '0', '0', '0', '0', '1', '0', '1', '1', '1', '0', '0', '0', '1', '0', '1', '1', '0', '1', '1', '0', '1', '1', '1', '1', '1', '0', '0', '1', '1', '0', '1', '0', '1', '0', '0', '0', '0', '0', '1', '0', '0', '0', '0', '1', '0', '1', '1', '0', '0', '0', '1', '0', '0', '1', '0', '0', '0', '0', '1', '1', '0', '0', '1', '1', '0', '0', '0', '1', '1', '1', '0', '0', '0', '1', '0', '0', '1', '0', '1', '0', '1', '0', '1', '1', '1', '1', '1', '1', '1', '1', '1', '0', '0', '0', '0', '1', '0', '1', '1', '0', '0', '1', '0', '1', '1', '0', '0', '1', '0', '0', '1', '0', '1', '1', '0', '1', '1', '0', '1', '0', '1', '1', '0', '0', '0', '0', '1', '1', '1', '1', '1', '1', '0', '0', '1', '0', '0', '0', '1', '0', '1', '1', '1', '0', '1', '1', '1', '1', '0', '0', '1', '0', '0', '1', '1', '1', '0', '0', '1', '0', '0', '0', '0', '1', '0', '1', '0', '1', '0', '0', '0', '0', '0', '1', '1', '1', '1', '1', '1', '1', '1', '1', '0', '0', '1', '1', '1', '0', '1', '1', '1', '1', '1', '1', '0', '1', '1', '1', '1', '1', '0', '0', '1', '0', '1', '1', '1', '0', '1', '1', '1', '1', '1', '1', '1', '1', '0', '1', '1', '0', '1', '1', '1', '1', '1', '1', '1', '0', '1', '0', '0', '0', '1', '0', '0', '1', '0', '0', '1', '1', '1', '0', '0', '0', '0', '1', '1', '1', '1', '1', '1', '1', '0', '0', '1', '0', '1', '0', '1', '1', '0', '1', '0', '0', '0', '1', '1', '0', '1', '1', '1', '0', '1', '1', '0', '0', '0', '0', '0', '1', '0', '0', '0', '1', '1', '0', '1', '1', '0', '1', '1', '0', '1', '1', '0', '0', '0', '0', '0', '0', '0', '1', '0', '0', '0', '1', '0', '0', '1', '1', '1', '1', '1', '0', '0', '1', '0', '0', '0', '1', '0', '0', '1', '0', '0', '1', '0', '0', '0', '1', '0', '1', '0', '0', '1', '1', '1', '1', '1', '0', '1', '0', '1', '0', '1', '0', '0', '1', '0', '0', '1', '1', '1', '1', '1', '0', '1', '0', '1', '0', '0', '1', '1', '0', '1', '1', '1', '0', '1', '0', '1', '0', '0', '0', '1', '0', '1', '1', '0', '0', '1', '0', '0', '0', '0', '1', '0', '0', '1', '0', '1', '0', '1', '1', '1', '1', '0', '1', '0', '1', '0', '1', '1', '1', '1', '0', '1', '1', '0', '1', '0', '1', '1', '0', '0', '1', '1', '0', '0', '0', '1', '0', '1', '1', '0', '1', '1', '1', '1', '0', '1', '0', '0', '0', '0', '0']\n"
     ]
    }
   ],
   "source": [
    "alice_bits = [] \n",
    "\n",
    "for i in range(1000):  \n",
    "    alice_bits.append(str(getrandbits(1))) # The function getrandbits generates 1 random bit\n",
    "print(alice_bits)"
   ]
  },
  {
   "cell_type": "code",
   "execution_count": 14,
   "id": "667ae356-2f9b-452d-99c6-9cfe836f3a53",
   "metadata": {},
   "outputs": [
    {
     "name": "stdout",
     "output_type": "stream",
     "text": [
      "['X', 'Z', 'X', 'Z', 'Z', 'X', 'Z', 'Z', 'Z', 'X', 'X', 'X', 'Z', 'Z', 'Z', 'Z', 'X', 'X', 'Z', 'Z', 'Z', 'X', 'X', 'X', 'Z', 'Z', 'X', 'Z', 'Z', 'X', 'X', 'Z', 'X', 'X', 'X', 'Z', 'Z', 'X', 'X', 'Z', 'X', 'Z', 'Z', 'Z', 'Z', 'X', 'Z', 'Z', 'X', 'X', 'Z', 'Z', 'X', 'X', 'Z', 'Z', 'Z', 'Z', 'Z', 'Z', 'Z', 'Z', 'Z', 'X', 'Z', 'X', 'X', 'Z', 'Z', 'X', 'Z', 'X', 'X', 'Z', 'Z', 'X', 'Z', 'Z', 'X', 'Z', 'X', 'X', 'X', 'X', 'Z', 'Z', 'Z', 'X', 'X', 'Z', 'Z', 'Z', 'X', 'X', 'Z', 'X', 'Z', 'Z', 'Z', 'X', 'Z', 'Z', 'X', 'Z', 'Z', 'X', 'Z', 'X', 'Z', 'Z', 'X', 'X', 'X', 'X', 'Z', 'Z', 'Z', 'Z', 'Z', 'Z', 'X', 'Z', 'Z', 'Z', 'X', 'X', 'X', 'Z', 'Z', 'X', 'Z', 'X', 'X', 'Z', 'Z', 'X', 'X', 'X', 'X', 'X', 'Z', 'X', 'X', 'Z', 'Z', 'Z', 'Z', 'Z', 'X', 'X', 'X', 'Z', 'Z', 'X', 'Z', 'Z', 'Z', 'X', 'X', 'X', 'X', 'X', 'Z', 'Z', 'Z', 'X', 'Z', 'X', 'Z', 'X', 'X', 'Z', 'X', 'Z', 'X', 'X', 'Z', 'X', 'Z', 'Z', 'X', 'Z', 'X', 'Z', 'Z', 'Z', 'X', 'X', 'Z', 'X', 'Z', 'X', 'Z', 'Z', 'X', 'X', 'Z', 'X', 'X', 'X', 'Z', 'Z', 'Z', 'X', 'Z', 'Z', 'X', 'X', 'Z', 'X', 'X', 'X', 'X', 'Z', 'Z', 'X', 'X', 'Z', 'Z', 'X', 'Z', 'X', 'Z', 'Z', 'X', 'Z', 'X', 'X', 'X', 'Z', 'X', 'X', 'X', 'Z', 'Z', 'Z', 'Z', 'X', 'Z', 'Z', 'Z', 'Z', 'X', 'X', 'X', 'X', 'X', 'X', 'X', 'X', 'Z', 'Z', 'X', 'X', 'X', 'X', 'X', 'X', 'X', 'X', 'X', 'Z', 'X', 'Z', 'Z', 'X', 'Z', 'X', 'X', 'Z', 'Z', 'Z', 'X', 'Z', 'X', 'X', 'X', 'Z', 'Z', 'X', 'Z', 'X', 'Z', 'X', 'Z', 'Z', 'Z', 'Z', 'Z', 'Z', 'X', 'Z', 'X', 'Z', 'Z', 'Z', 'X', 'X', 'Z', 'X', 'X', 'X', 'Z', 'Z', 'X', 'X', 'X', 'X', 'Z', 'X', 'Z', 'X', 'X', 'X', 'X', 'Z', 'X', 'X', 'Z', 'Z', 'Z', 'Z', 'X', 'X', 'Z', 'X', 'X', 'X', 'Z', 'X', 'X', 'Z', 'Z', 'X', 'Z', 'X', 'X', 'X', 'X', 'Z', 'X', 'Z', 'Z', 'X', 'X', 'X', 'X', 'X', 'Z', 'X', 'X', 'Z', 'X', 'X', 'Z', 'X', 'X', 'X', 'Z', 'X', 'Z', 'X', 'X', 'Z', 'Z', 'Z', 'Z', 'X', 'X', 'X', 'Z', 'Z', 'X', 'Z', 'X', 'X', 'X', 'Z', 'Z', 'X', 'X', 'X', 'X', 'X', 'Z', 'Z', 'X', 'X', 'Z', 'X', 'X', 'X', 'Z', 'Z', 'X', 'Z', 'X', 'X', 'X', 'X', 'Z', 'Z', 'Z', 'Z', 'X', 'X', 'Z', 'Z', 'Z', 'X', 'X', 'Z', 'X', 'X', 'Z', 'Z', 'Z', 'X', 'X', 'X', 'X', 'X', 'X', 'Z', 'Z', 'X', 'Z', 'X', 'Z', 'Z', 'Z', 'Z', 'Z', 'X', 'Z', 'X', 'X', 'Z', 'Z', 'X', 'Z', 'Z', 'Z', 'X', 'Z', 'X', 'X', 'X', 'Z', 'Z', 'X', 'X', 'Z', 'X', 'X', 'Z', 'X', 'Z', 'Z', 'Z', 'X', 'Z', 'X', 'Z', 'Z', 'X', 'Z', 'X', 'X', 'X', 'Z', 'X', 'Z', 'Z', 'Z', 'Z', 'Z', 'X', 'Z', 'Z', 'X', 'X', 'X', 'Z', 'X', 'X', 'X', 'X', 'X', 'Z', 'X', 'Z', 'X', 'Z', 'X', 'Z', 'Z', 'X', 'Z', 'Z', 'X', 'Z', 'Z', 'X', 'Z', 'X', 'X', 'Z', 'X', 'X', 'X', 'Z', 'X', 'Z', 'X', 'X', 'Z', 'Z', 'Z', 'X', 'Z', 'Z', 'X', 'X', 'Z', 'Z', 'Z', 'X', 'Z', 'Z', 'X', 'X', 'Z', 'X', 'X', 'Z', 'Z', 'Z', 'X', 'Z', 'X', 'X', 'X', 'Z', 'X', 'X', 'Z', 'Z', 'X', 'Z', 'X', 'X', 'Z', 'Z', 'X', 'Z', 'X', 'Z', 'X', 'Z', 'Z', 'X', 'X', 'Z', 'X', 'Z', 'X', 'X', 'X', 'X', 'X', 'X', 'Z', 'X', 'X', 'X', 'Z', 'Z', 'X', 'Z', 'Z', 'X', 'X', 'X', 'Z', 'X', 'X', 'X', 'X', 'X', 'Z', 'X', 'Z', 'X', 'Z', 'X', 'X', 'Z', 'X', 'Z', 'Z', 'X', 'X', 'X', 'Z', 'Z', 'X', 'X', 'Z', 'X', 'Z', 'Z', 'Z', 'Z', 'X', 'X', 'Z', 'X', 'Z', 'Z', 'Z', 'X', 'Z', 'Z', 'Z', 'Z', 'Z', 'Z', 'Z', 'X', 'X', 'Z', 'X', 'Z', 'Z', 'X', 'Z', 'Z', 'Z', 'X', 'X', 'Z', 'X', 'Z', 'Z', 'Z', 'Z', 'Z', 'X', 'X', 'Z', 'X', 'Z', 'X', 'X', 'X', 'X', 'X', 'Z', 'Z', 'Z', 'X', 'X', 'X', 'X', 'X', 'Z', 'X', 'Z', 'X', 'X', 'X', 'X', 'Z', 'Z', 'X', 'Z', 'X', 'Z', 'Z', 'Z', 'X', 'Z', 'X', 'X', 'Z', 'Z', 'Z', 'X', 'Z', 'Z', 'X', 'Z', 'Z', 'X', 'Z', 'Z', 'X', 'X', 'Z', 'X', 'X', 'Z', 'X', 'Z', 'Z', 'X', 'X', 'X', 'X', 'X', 'Z', 'X', 'X', 'Z', 'Z', 'Z', 'Z', 'Z', 'Z', 'X', 'Z', 'X', 'X', 'Z', 'X', 'Z', 'Z', 'X', 'Z', 'X', 'X', 'Z', 'Z', 'X', 'X', 'X', 'Z', 'X', 'Z', 'Z', 'Z', 'Z', 'X', 'Z', 'Z', 'Z', 'Z', 'Z', 'Z', 'X', 'X', 'Z', 'X', 'X', 'X', 'Z', 'Z', 'Z', 'Z', 'X', 'Z', 'Z', 'X', 'Z', 'Z', 'X', 'Z', 'X', 'Z', 'Z', 'X', 'Z', 'X', 'X', 'X', 'X', 'Z', 'X', 'Z', 'X', 'X', 'X', 'Z', 'Z', 'X', 'Z', 'X', 'Z', 'X', 'X', 'Z', 'X', 'Z', 'Z', 'X', 'Z', 'X', 'X', 'Z', 'Z', 'Z', 'X', 'Z', 'X', 'X', 'X', 'Z', 'X', 'Z', 'X', 'Z', 'X', 'Z', 'Z', 'X', 'Z', 'X', 'Z', 'X', 'X', 'X', 'X', 'X', 'Z', 'X', 'Z', 'Z', 'Z', 'Z', 'X', 'X', 'X', 'X', 'Z', 'Z', 'X', 'X', 'Z', 'X', 'X', 'Z', 'X', 'X', 'Z', 'Z', 'Z', 'Z', 'Z', 'X', 'Z', 'X', 'Z', 'X', 'Z', 'Z', 'Z', 'Z', 'Z', 'Z', 'X', 'X', 'X', 'Z', 'Z', 'X', 'X', 'X', 'X', 'X', 'Z', 'Z', 'X', 'X', 'X', 'Z', 'X', 'Z', 'Z', 'X', 'Z', 'Z', 'X', 'X', 'X', 'X', 'X', 'Z', 'Z', 'X', 'Z', 'Z', 'X', 'Z', 'X', 'Z', 'X', 'Z', 'Z', 'X', 'Z', 'Z', 'Z', 'X', 'X', 'Z', 'X', 'X', 'X', 'Z', 'X', 'Z', 'Z', 'X', 'X', 'X', 'X', 'X', 'Z', 'X', 'Z', 'Z', 'Z', 'Z', 'Z', 'Z', 'X', 'X', 'X', 'Z', 'X', 'Z', 'X', 'X', 'Z', 'Z', 'Z', 'X', 'Z', 'Z', 'X', 'Z', 'Z', 'X', 'X', 'X', 'Z', 'X', 'Z', 'Z', 'X', 'Z', 'Z', 'Z', 'Z', 'Z', 'X', 'X', 'X', 'Z', 'X', 'Z', 'X', 'X', 'Z', 'Z', 'Z', 'Z', 'X', 'Z', 'X', 'Z', 'Z', 'X', 'X', 'Z', 'Z', 'X', 'X', 'Z', 'Z', 'X', 'Z', 'X', 'X', 'X', 'Z', 'X', 'X', 'X', 'X', 'Z', 'X', 'X', 'X', 'Z', 'X', 'X', 'Z', 'X']\n"
     ]
    }
   ],
   "source": [
    "alice_bases = [] # List to store Alice's bases\n",
    "for i in range(1000):\n",
    "    base = getrandbits(1)\n",
    "    if base == 0:\n",
    "        alice_bases.append(\"Z\")\n",
    "    else:\n",
    "        alice_bases.append(\"X\")\n",
    "\n",
    "# WRITE CODE HERE: Add a print statement to display Alice's bases\n",
    "print(alice_bases)"
   ]
  },
  {
   "cell_type": "code",
   "execution_count": 15,
   "id": "b760e428-4b4c-4ddd-9b67-4dbd1e51c1cc",
   "metadata": {},
   "outputs": [],
   "source": [
    "encoded_qubits = []\n",
    "for i in range(1000):\n",
    "    qc = QuantumCircuit(1,1)\n",
    "    if alice_bases[i] == \"Z\":\n",
    "        if alice_bits[i] == '0':\n",
    "            pass # We want nothing to happen here - the qubit is already in the state |0>\n",
    "\n",
    "        elif alice_bits[i] == '1':\n",
    "            qc.x(0) # Applying an X gate to change the qubit state to |1>\n",
    "            \n",
    "    elif alice_bases[i] == \"X\":\n",
    "        if alice_bits[i] == '0':\n",
    "            qc.h(0) # Applying an H gate to change the qubit state to |+>\n",
    "        elif alice_bits[i] == '1':\n",
    "            qc.x(0) # Applying an X and H gate to change the qubit state to |->\n",
    "            qc.h(0)\n",
    "            \n",
    "    encoded_qubits.append(qc) # Adding the qubit with the right state to the list of qubits that Alice will send Bob"
   ]
  },
  {
   "cell_type": "code",
   "execution_count": 16,
   "id": "bb29b27e-009c-4ebf-ab64-d8afdbe11a18",
   "metadata": {},
   "outputs": [
    {
     "name": "stdout",
     "output_type": "stream",
     "text": [
      "['Z', 'Z', 'X', 'X', 'Z', 'X', 'X', 'Z', 'Z', 'X', 'X', 'Z', 'X', 'X', 'Z', 'X', 'Z', 'Z', 'X', 'X', 'Z', 'Z', 'Z', 'Z', 'Z', 'X', 'X', 'X', 'Z', 'X', 'Z', 'Z', 'Z', 'Z', 'X', 'Z', 'X', 'Z', 'Z', 'Z', 'Z', 'X', 'X', 'X', 'X', 'Z', 'X', 'X', 'X', 'Z', 'Z', 'X', 'Z', 'X', 'Z', 'X', 'X', 'X', 'Z', 'Z', 'Z', 'Z', 'Z', 'X', 'X', 'X', 'Z', 'X', 'X', 'Z', 'X', 'X', 'Z', 'Z', 'X', 'Z', 'X', 'X', 'Z', 'X', 'Z', 'X', 'X', 'X', 'X', 'Z', 'Z', 'X', 'X', 'Z', 'Z', 'X', 'X', 'Z', 'Z', 'X', 'Z', 'X', 'X', 'Z', 'X', 'X', 'Z', 'X', 'X', 'X', 'Z', 'Z', 'X', 'X', 'X', 'Z', 'Z', 'X', 'Z', 'X', 'X', 'X', 'X', 'Z', 'Z', 'X', 'Z', 'Z', 'Z', 'Z', 'Z', 'Z', 'X', 'Z', 'Z', 'Z', 'Z', 'X', 'Z', 'X', 'Z', 'X', 'X', 'X', 'X', 'X', 'X', 'X', 'X', 'X', 'Z', 'Z', 'X', 'Z', 'Z', 'Z', 'Z', 'X', 'X', 'X', 'X', 'Z', 'X', 'Z', 'Z', 'X', 'X', 'X', 'X', 'Z', 'Z', 'X', 'X', 'X', 'Z', 'Z', 'X', 'Z', 'X', 'Z', 'Z', 'Z', 'X', 'Z', 'X', 'Z', 'X', 'Z', 'Z', 'Z', 'X', 'Z', 'Z', 'X', 'Z', 'X', 'Z', 'X', 'X', 'Z', 'X', 'Z', 'Z', 'X', 'X', 'X', 'X', 'X', 'X', 'Z', 'Z', 'X', 'X', 'Z', 'X', 'Z', 'X', 'Z', 'X', 'Z', 'Z', 'X', 'Z', 'Z', 'Z', 'X', 'X', 'X', 'X', 'Z', 'Z', 'X', 'X', 'X', 'Z', 'Z', 'X', 'Z', 'X', 'X', 'X', 'Z', 'Z', 'X', 'X', 'Z', 'X', 'Z', 'Z', 'X', 'Z', 'X', 'X', 'X', 'Z', 'X', 'X', 'X', 'X', 'X', 'X', 'X', 'X', 'X', 'Z', 'Z', 'Z', 'Z', 'X', 'X', 'X', 'Z', 'X', 'Z', 'Z', 'X', 'Z', 'X', 'X', 'Z', 'X', 'Z', 'Z', 'X', 'Z', 'X', 'Z', 'X', 'X', 'Z', 'Z', 'X', 'X', 'X', 'Z', 'Z', 'Z', 'Z', 'Z', 'Z', 'X', 'Z', 'X', 'Z', 'Z', 'Z', 'Z', 'Z', 'Z', 'Z', 'X', 'X', 'X', 'Z', 'Z', 'Z', 'Z', 'X', 'Z', 'Z', 'Z', 'Z', 'X', 'X', 'X', 'X', 'Z', 'Z', 'Z', 'Z', 'Z', 'X', 'Z', 'Z', 'Z', 'X', 'Z', 'X', 'Z', 'X', 'X', 'Z', 'Z', 'Z', 'X', 'X', 'X', 'X', 'Z', 'Z', 'Z', 'X', 'Z', 'X', 'Z', 'X', 'X', 'X', 'Z', 'X', 'X', 'Z', 'X', 'X', 'Z', 'X', 'X', 'Z', 'X', 'Z', 'X', 'Z', 'X', 'Z', 'Z', 'Z', 'X', 'X', 'X', 'Z', 'Z', 'Z', 'X', 'X', 'X', 'X', 'Z', 'X', 'X', 'Z', 'X', 'X', 'X', 'Z', 'X', 'Z', 'X', 'Z', 'Z', 'X', 'Z', 'X', 'X', 'X', 'X', 'Z', 'X', 'X', 'X', 'Z', 'X', 'X', 'X', 'X', 'X', 'Z', 'X', 'Z', 'Z', 'Z', 'Z', 'Z', 'Z', 'X', 'X', 'X', 'Z', 'X', 'X', 'X', 'X', 'Z', 'Z', 'Z', 'X', 'Z', 'Z', 'X', 'Z', 'X', 'Z', 'Z', 'Z', 'X', 'Z', 'X', 'X', 'Z', 'X', 'X', 'Z', 'X', 'X', 'X', 'Z', 'Z', 'X', 'X', 'Z', 'X', 'X', 'X', 'Z', 'X', 'Z', 'Z', 'X', 'X', 'Z', 'Z', 'Z', 'Z', 'Z', 'X', 'Z', 'Z', 'X', 'Z', 'X', 'Z', 'Z', 'Z', 'X', 'Z', 'Z', 'X', 'X', 'Z', 'Z', 'X', 'Z', 'Z', 'Z', 'Z', 'X', 'X', 'Z', 'X', 'X', 'Z', 'Z', 'Z', 'Z', 'X', 'Z', 'X', 'Z', 'X', 'Z', 'Z', 'Z', 'Z', 'Z', 'X', 'Z', 'Z', 'Z', 'X', 'X', 'Z', 'Z', 'Z', 'X', 'Z', 'Z', 'X', 'Z', 'X', 'Z', 'Z', 'X', 'Z', 'Z', 'Z', 'X', 'Z', 'Z', 'Z', 'Z', 'X', 'X', 'Z', 'X', 'X', 'X', 'Z', 'X', 'Z', 'X', 'Z', 'X', 'Z', 'X', 'Z', 'Z', 'Z', 'X', 'Z', 'Z', 'Z', 'Z', 'X', 'X', 'Z', 'X', 'X', 'X', 'Z', 'X', 'X', 'X', 'Z', 'Z', 'Z', 'Z', 'Z', 'X', 'X', 'X', 'X', 'Z', 'Z', 'X', 'Z', 'Z', 'Z', 'Z', 'X', 'X', 'Z', 'X', 'X', 'X', 'Z', 'X', 'Z', 'Z', 'X', 'X', 'Z', 'X', 'Z', 'X', 'Z', 'Z', 'Z', 'X', 'Z', 'X', 'Z', 'X', 'X', 'Z', 'X', 'Z', 'Z', 'X', 'Z', 'Z', 'Z', 'X', 'X', 'X', 'Z', 'Z', 'Z', 'X', 'Z', 'Z', 'Z', 'X', 'Z', 'Z', 'Z', 'Z', 'Z', 'X', 'Z', 'Z', 'X', 'Z', 'Z', 'Z', 'X', 'X', 'Z', 'Z', 'X', 'X', 'X', 'X', 'X', 'X', 'X', 'X', 'X', 'Z', 'Z', 'Z', 'Z', 'X', 'Z', 'Z', 'X', 'X', 'Z', 'Z', 'X', 'X', 'X', 'X', 'X', 'Z', 'Z', 'X', 'Z', 'Z', 'X', 'Z', 'Z', 'X', 'Z', 'Z', 'Z', 'Z', 'X', 'Z', 'Z', 'Z', 'X', 'X', 'X', 'X', 'Z', 'X', 'X', 'Z', 'X', 'Z', 'X', 'Z', 'Z', 'Z', 'Z', 'X', 'X', 'X', 'Z', 'X', 'X', 'Z', 'Z', 'X', 'Z', 'X', 'X', 'X', 'X', 'Z', 'X', 'X', 'Z', 'Z', 'X', 'Z', 'X', 'X', 'Z', 'Z', 'X', 'X', 'Z', 'Z', 'X', 'Z', 'X', 'X', 'X', 'Z', 'Z', 'X', 'Z', 'Z', 'Z', 'X', 'Z', 'X', 'X', 'Z', 'Z', 'Z', 'X', 'Z', 'X', 'X', 'Z', 'Z', 'Z', 'X', 'X', 'X', 'Z', 'Z', 'Z', 'Z', 'Z', 'Z', 'X', 'X', 'Z', 'Z', 'Z', 'Z', 'X', 'X', 'X', 'X', 'X', 'Z', 'X', 'Z', 'X', 'Z', 'Z', 'Z', 'X', 'X', 'X', 'X', 'Z', 'X', 'Z', 'X', 'Z', 'X', 'Z', 'X', 'X', 'Z', 'X', 'X', 'X', 'X', 'X', 'X', 'X', 'X', 'X', 'X', 'Z', 'X', 'Z', 'Z', 'X', 'Z', 'X', 'Z', 'Z', 'Z', 'X', 'X', 'X', 'X', 'Z', 'X', 'X', 'Z', 'Z', 'X', 'X', 'X', 'X', 'X', 'X', 'X', 'X', 'Z', 'X', 'Z', 'Z', 'X', 'X', 'X', 'X', 'Z', 'Z', 'Z', 'X', 'Z', 'X', 'X', 'Z', 'Z', 'Z', 'X', 'Z', 'X', 'X', 'Z', 'X', 'X', 'Z', 'X', 'X', 'X', 'Z', 'Z', 'X', 'Z', 'Z', 'X', 'Z', 'X', 'X', 'Z', 'X', 'X', 'X', 'Z', 'Z', 'Z', 'Z', 'X', 'X', 'X', 'X', 'X', 'X', 'X', 'Z', 'X', 'X', 'X', 'Z', 'X', 'Z', 'X', 'X', 'Z', 'X', 'Z', 'Z', 'X', 'Z', 'X', 'X', 'X', 'X', 'X', 'X', 'Z', 'X', 'X', 'X', 'Z', 'X', 'X', 'Z', 'Z', 'Z', 'X', 'X', 'Z', 'Z', 'X', 'X', 'X', 'X', 'Z', 'Z', 'X', 'Z', 'X', 'Z', 'Z', 'Z', 'Z', 'Z', 'Z', 'X', 'Z', 'X', 'Z', 'X', 'Z', 'X', 'Z', 'X', 'Z', 'Z', 'X', 'Z', 'X', 'Z', 'Z', 'Z', 'Z', 'X', 'X', 'Z', 'X', 'Z', 'Z', 'Z', 'X', 'Z', 'X', 'Z', 'X', 'Z', 'Z', 'X', 'X', 'Z', 'X', 'X', 'Z', 'X', 'Z', 'Z', 'Z', 'X', 'Z', 'X', 'X', 'Z', 'Z', 'X', 'Z', 'X', 'Z', 'Z', 'X', 'X', 'X', 'Z', 'Z', 'Z', 'Z', 'Z', 'Z', 'Z', 'Z', 'Z']\n"
     ]
    }
   ],
   "source": [
    "bob_bases = []\n",
    "for i in range(1000):\n",
    "    bit = getrandbits(1)\n",
    "    if bit == 0:\n",
    "        bob_bases.append(\"Z\")\n",
    "    else:\n",
    "        bob_bases.append(\"X\")\n",
    "\n",
    "\n",
    "print(bob_bases)"
   ]
  },
  {
   "cell_type": "code",
   "execution_count": 17,
   "id": "46cc3f8d-d620-43d8-97d3-8c67def3dead",
   "metadata": {},
   "outputs": [
    {
     "name": "stdout",
     "output_type": "stream",
     "text": [
      "['1', '1', '0', '0', '1', '0', '1', '1', '1', '0', '0', '0', '0', '1', '0', '1', '1', '0', '0', '0', '0', '1', '0', '1', '1', '0', '1', '0', '0', '1', '1', '1', '0', '0', '0', '0', '0', '0', '0', '1', '0', '1', '1', '0', '1', '1', '0', '0', '1', '1', '0', '1', '1', '0', '0', '0', '0', '0', '1', '1', '0', '1', '1', '0', '0', '1', '0', '1', '1', '1', '1', '0', '0', '1', '1', '1', '0', '0', '0', '0', '0', '1', '0', '1', '0', '1', '1', '0', '1', '0', '1', '0', '1', '0', '0', '0', '0', '0', '1', '1', '1', '1', '0', '1', '1', '1', '1', '0', '0', '0', '0', '0', '0', '0', '1', '0', '1', '1', '1', '0', '0', '1', '0', '0', '0', '1', '1', '0', '1', '0', '1', '0', '0', '0', '0', '0', '1', '1', '1', '1', '1', '0', '1', '0', '0', '1', '1', '1', '0', '1', '1', '1', '1', '1', '0', '0', '1', '0', '1', '1', '0', '1', '1', '1', '0', '1', '1', '0', '0', '0', '0', '0', '1', '1', '0', '0', '1', '0', '1', '0', '0', '1', '0', '0', '0', '0', '0', '1', '1', '1', '1', '1', '1', '1', '0', '0', '0', '1', '0', '0', '0', '0', '1', '0', '0', '0', '0', '0', '1', '1', '1', '0', '0', '1', '1', '0', '0', '1', '1', '1', '1', '0', '0', '0', '1', '0', '1', '1', '1', '1', '1', '0', '1', '1', '0', '1', '0', '1', '0', '1', '0', '0', '1', '0', '0', '0', '0', '1', '0', '1', '1', '1', '0', '0', '1', '0', '0', '1', '1', '1', '1', '1', '1', '0', '0', '0', '0', '1', '0', '1', '0', '1', '0', '1', '1', '1', '1', '1', '1', '1', '1', '1', '0', '0', '1', '0', '1', '0', '1', '0', '0', '1', '0', '0', '0', '0', '0', '1', '1', '1', '0', '0', '1', '1', '0', '0', '0', '1', '1', '0', '0', '1', '1', '1', '0', '1', '0', '0', '1', '0', '0', '0', '1', '1', '0', '0', '1', '1', '0', '1', '0', '1', '1', '0', '1', '0', '1', '0', '0', '1', '0', '1', '0', '1', '0', '1', '1', '0', '0', '1', '0', '1', '0', '1', '0', '1', '1', '0', '0', '1', '1', '1', '0', '0', '1', '0', '0', '0', '1', '1', '1', '1', '0', '0', '0', '1', '0', '1', '0', '1', '0', '1', '1', '0', '1', '0', '1', '0', '1', '0', '0', '0', '1', '1', '0', '0', '1', '1', '1', '1', '0', '0', '0', '0', '1', '1', '0', '0', '0', '1', '1', '1', '0', '0', '0', '1', '1', '0', '0', '0', '0', '0', '0', '0', '0', '1', '0', '1', '0', '1', '0', '0', '0', '0', '0', '0', '1', '1', '1', '1', '1', '1', '1', '1', '1', '1', '1', '1', '1', '1', '1', '1', '0', '0', '1', '0', '0', '0', '1', '0', '1', '0', '0', '1', '1', '0', '0', '0', '1', '1', '0', '0', '1', '0', '1', '0', '1', '0', '1', '1', '0', '1', '1', '1', '0', '1', '1', '0', '0', '0', '1', '1', '1', '1', '0', '1', '0', '1', '0', '1', '0', '1', '0', '1', '1', '0', '1', '1', '0', '1', '1', '0', '1', '0', '1', '1', '0', '0', '1', '1', '0', '1', '0', '0', '1', '1', '1', '0', '0', '1', '0', '0', '1', '1', '1', '1', '0', '0', '1', '1', '0', '1', '0', '0', '1', '0', '1', '1', '1', '1', '1', '0', '1', '1', '0', '0', '0', '1', '0', '0', '0', '1', '0', '1', '0', '0', '0', '0', '1', '1', '1', '0', '0', '0', '0', '0', '1', '0', '1', '1', '0', '0', '1', '0', '1', '1', '1', '1', '1', '0', '1', '0', '1', '0', '0', '0', '1', '0', '0', '0', '0', '0', '1', '1', '1', '0', '0', '1', '0', '1', '1', '0', '1', '0', '1', '1', '1', '1', '1', '0', '0', '1', '1', '1', '0', '0', '0', '1', '0', '0', '0', '1', '1', '1', '0', '0', '0', '1', '0', '0', '1', '0', '0', '0', '0', '1', '1', '0', '1', '1', '1', '1', '1', '0', '1', '1', '0', '0', '0', '0', '1', '1', '0', '0', '0', '1', '0', '1', '1', '0', '0', '1', '1', '1', '1', '0', '0', '1', '0', '1', '1', '0', '1', '1', '1', '1', '1', '0', '0', '0', '1', '1', '1', '0', '1', '0', '0', '0', '0', '0', '0', '0', '1', '0', '1', '1', '0', '0', '1', '0', '1', '1', '0', '0', '1', '1', '0', '1', '1', '1', '1', '1', '1', '0', '0', '0', '0', '1', '0', '0', '0', '1', '1', '1', '0', '0', '0', '1', '0', '1', '1', '1', '1', '1', '1', '1', '0', '0', '1', '1', '1', '0', '1', '1', '1', '1', '0', '1', '0', '1', '1', '1', '1', '1', '0', '0', '0', '0', '0', '1', '1', '0', '1', '1', '0', '1', '0', '0', '1', '1', '0', '1', '1', '1', '0', '0', '0', '1', '1', '1', '1', '0', '1', '0', '0', '0', '1', '0', '0', '1', '0', '1', '1', '0', '1', '0', '0', '0', '0', '0', '1', '1', '0', '1', '1', '1', '0', '0', '1', '0', '1', '0', '0', '0', '0', '1', '1', '1', '0', '1', '1', '0', '1', '1', '1', '0', '1', '1', '0', '0', '1', '0', '1', '1', '0', '0', '0', '1', '1', '0', '0', '0', '1', '1', '1', '0', '0', '1', '0', '1', '0', '0', '1', '1', '0', '1', '0', '1', '0', '1', '0', '0', '1', '1', '0', '1', '1', '0', '1', '1', '0', '0', '0', '1', '0', '1', '1', '0', '1', '0', '1', '0', '0', '1', '1', '1', '0', '0', '1', '1', '0', '0', '0', '0', '1', '0', '1', '0', '1', '1', '0', '1', '0', '0', '0', '0', '1', '1', '1', '0', '0', '1', '0', '1', '0', '1', '1', '1', '1', '1', '1', '0', '0', '1', '1', '1', '0', '0', '1', '0', '0', '0', '0', '0', '0', '1', '1', '1', '1', '1', '1', '0', '1', '0', '1', '0', '1', '1', '1', '1', '0', '1', '0', '0', '0', '1', '1', '1', '1', '0', '1', '1', '0', '1', '0', '1', '1', '0', '1', '1', '0', '0', '0', '0', '1', '0', '1', '0', '0', '1', '1', '1', '0', '1', '0', '0', '0', '1', '0', '0']\n"
     ]
    }
   ],
   "source": [
    "bob_bits = [] # List of Bob's bits generated from the results of Bob's measurements\n",
    "    \n",
    "for i in range(1000):\n",
    "    qc = encoded_qubits[i]\n",
    "        \n",
    "    if bob_bases[i] == \"Z\": # Bob's basis is Z\n",
    "            qc.measure(0,0) #Code to measure in the Z basis\n",
    "        \n",
    "\n",
    "    elif bob_bases[i] == \"X\": #The case that bob_bases[i] is X\n",
    "            qc.h(0) #WRITE CODE HERE: Bob needs to add a gate here to correctly measure in the X basis. Which gate is this?  \n",
    "            qc.measure(0,0)  #Measurement in the X basis\n",
    "            \n",
    "            \n",
    "      # Now that the measurements have been added to the circuit, let's run them.\n",
    "    job = execute(qc, backend=Aer.get_backend('qasm_simulator'), shots = 1) \n",
    "    results = job.result()\n",
    "    counts = results.get_counts()\n",
    "    measured_bit = max(counts, key=counts.get)\n",
    "\n",
    "        # Append measured bit to Bob's measured bitstring\n",
    "    bob_bits.append(measured_bit) \n",
    "print(bob_bits)"
   ]
  },
  {
   "cell_type": "code",
   "execution_count": 18,
   "id": "035ba4a9-9079-4e99-b0b8-6554c1301644",
   "metadata": {},
   "outputs": [
    {
     "data": {
      "text/plain": [
       "491"
      ]
     },
     "execution_count": 18,
     "metadata": {},
     "output_type": "execute_result"
    }
   ],
   "source": [
    "agreeing_indices = []\n",
    "    \n",
    "for i in range(len(alice_bases)):\n",
    "    if alice_bases[i]==bob_bases[i]:\n",
    "        agreeing_indices.append(i)\n",
    "    \n",
    "len(agreeing_indices) # This statement will print how many bases were the same for Alice and Bob. Can you guess what this number should approximately be?"
   ]
  },
  {
   "cell_type": "code",
   "execution_count": 19,
   "id": "c649b3fb-8034-423b-94d6-e55f477b9b19",
   "metadata": {},
   "outputs": [
    {
     "name": "stdout",
     "output_type": "stream",
     "text": [
      "['1', '0', '1', '0', '1', '1', '0', '0', '0', '0', '1', '1', '0', '1', '1', '0', '0', '1', '1', '0', '0', '0', '1', '1', '0', '1', '1', '0', '1', '0', '1', '1', '0', '1', '1', '1', '0', '1', '0', '1', '1', '0', '0', '0', '1', '1', '0', '0', '1', '0', '0', '0', '0', '1', '0', '0', '1', '1', '1', '0', '1', '1', '1', '0', '1', '1', '1', '1', '1', '1', '0', '0', '0', '1', '1', '0', '1', '0', '0', '1', '0', '0', '0', '0', '0', '1', '1', '1', '1', '1', '0', '0', '0', '0', '0', '1', '0', '1', '1', '1', '0', '1', '0', '1', '1', '1', '1', '0', '0', '1', '0', '1', '0', '1', '1', '0', '0', '1', '0', '0', '1', '1', '1', '1', '0', '0', '0', '1', '0', '1', '1', '1', '1', '1', '1', '1', '0', '0', '0', '1', '1', '0', '0', '0', '0', '1', '1', '0', '1', '0', '1', '1', '0', '1', '0', '1', '0', '1', '0', '1', '1', '0', '1', '0', '0', '1', '0', '1', '0', '1', '1', '1', '1', '1', '0', '0', '0', '1', '1', '1', '0', '0', '1', '1', '0', '1', '0', '0', '1', '0', '0', '1', '1', '1', '1', '0', '1', '1', '1', '1', '0', '0', '1', '1', '0', '0', '0', '1', '0', '1', '0', '0', '0', '0', '0', '1', '1', '1', '1', '1', '1', '0', '0', '1', '0', '0', '1', '0', '1', '0', '0', '0', '1', '1', '1', '1', '1', '1', '0', '1', '0', '1', '0', '0', '0', '1', '1', '1', '1', '0', '1', '0', '0', '0', '0', '1', '1', '0', '1', '0', '1', '0', '1', '0', '0', '0', '1', '1', '1', '1', '1', '0', '0', '0', '1', '0', '1', '0', '0', '0', '0', '0', '1', '0', '1', '1', '0', '0', '1', '1', '1', '1', '0', '1', '0', '0', '0', '0', '1', '0', '0', '1', '0', '1', '1', '0', '0', '1', '0', '0', '1', '0', '0', '1', '0', '1', '1', '1', '0', '0', '0', '1', '0', '0', '1', '0', '1', '1', '1', '1', '0', '0', '0', '0', '1', '1', '1', '0', '1', '0', '1', '1', '0', '1', '0', '0', '1', '1', '0', '0', '0', '0', '1', '1', '0', '0', '1', '1', '1', '1', '0', '0', '1', '1', '0', '1', '1', '1', '1', '1', '1', '0', '1', '1', '1', '1', '1', '1', '0', '1', '1', '1', '1', '0', '0', '0', '1', '1', '1', '1', '1', '1', '0', '1', '0', '0', '0', '0', '1', '1', '0', '0', '1', '1', '1', '0', '1', '0', '1', '1', '0', '1', '1', '0', '1', '1', '0', '0', '1', '0', '1', '1', '1', '1', '1', '0', '0', '0', '0', '1', '0', '1', '1', '1', '0', '1', '0', '1', '0', '1', '0', '0', '0', '0', '1', '0', '1', '1', '1', '1', '0', '1', '1', '1', '1', '0', '1', '0', '0', '1', '0', '0', '1', '0', '1', '0', '1', '1', '0', '1', '0', '1', '1', '1', '0', '1', '0', '1', '1', '1', '0', '0', '0', '0', '1', '0', '1', '1', '1', '0', '0']\n"
     ]
    }
   ],
   "source": [
    "alice_key = []\n",
    "for index in agreeing_indices:\n",
    "    alice_key.append(alice_bits[index])\n",
    "    \n",
    "print(alice_key)\n",
    "# WRITE CODE HERE: Add a print statement to see Alice's key"
   ]
  },
  {
   "cell_type": "code",
   "execution_count": 20,
   "id": "aefc44a8-19fe-477f-baed-10d1f48efacb",
   "metadata": {},
   "outputs": [
    {
     "name": "stdout",
     "output_type": "stream",
     "text": [
      "['1', '0', '1', '0', '1', '1', '0', '0', '0', '0', '1', '1', '0', '1', '1', '0', '0', '1', '1', '0', '0', '0', '1', '1', '0', '1', '1', '0', '1', '0', '1', '1', '0', '1', '1', '1', '0', '1', '0', '1', '1', '0', '0', '0', '1', '1', '0', '0', '1', '0', '0', '0', '0', '1', '0', '0', '1', '1', '1', '0', '1', '1', '1', '0', '1', '1', '1', '1', '1', '1', '0', '0', '0', '1', '1', '0', '1', '0', '0', '1', '0', '0', '0', '0', '0', '1', '1', '1', '1', '1', '0', '0', '0', '0', '0', '1', '0', '1', '1', '1', '0', '1', '0', '1', '1', '1', '1', '0', '0', '1', '0', '1', '0', '1', '1', '0', '0', '1', '0', '0', '1', '1', '1', '1', '0', '0', '0', '1', '0', '1', '1', '1', '1', '1', '1', '1', '0', '0', '0', '1', '1', '0', '0', '0', '0', '1', '1', '0', '1', '0', '1', '1', '0', '1', '0', '1', '0', '1', '0', '1', '1', '0', '1', '0', '0', '1', '0', '1', '0', '1', '1', '1', '1', '1', '0', '0', '0', '1', '1', '1', '0', '0', '1', '1', '0', '1', '0', '0', '1', '0', '0', '1', '1', '1', '1', '0', '1', '1', '1', '1', '0', '0', '1', '1', '0', '0', '0', '1', '0', '1', '0', '0', '0', '0', '0', '1', '1', '1', '1', '1', '1', '0', '0', '1', '0', '0', '1', '0', '1', '0', '0', '0', '1', '1', '1', '1', '1', '1', '0', '1', '0', '1', '0', '0', '0', '1', '1', '1', '1', '0', '1', '0', '0', '0', '0', '1', '1', '0', '1', '0', '1', '0', '1', '0', '0', '0', '1', '1', '1', '1', '1', '0', '0', '0', '1', '0', '1', '0', '0', '0', '0', '0', '1', '0', '1', '1', '0', '0', '1', '1', '1', '1', '0', '1', '0', '0', '0', '0', '1', '0', '0', '1', '0', '1', '1', '0', '0', '1', '0', '0', '1', '0', '0', '1', '0', '1', '1', '1', '0', '0', '0', '1', '0', '0', '1', '0', '1', '1', '1', '1', '0', '0', '0', '0', '1', '1', '1', '0', '1', '0', '1', '1', '0', '1', '0', '0', '1', '1', '0', '0', '0', '0', '1', '1', '0', '0', '1', '1', '1', '1', '0', '0', '1', '1', '0', '1', '1', '1', '1', '1', '1', '0', '1', '1', '1', '1', '1', '1', '0', '1', '1', '1', '1', '0', '0', '0', '1', '1', '1', '1', '1', '1', '0', '1', '0', '0', '0', '0', '1', '1', '0', '0', '1', '1', '1', '0', '1', '0', '1', '1', '0', '1', '1', '0', '1', '1', '0', '0', '1', '0', '1', '1', '1', '1', '1', '0', '0', '0', '0', '1', '0', '1', '1', '1', '0', '1', '0', '1', '0', '1', '0', '0', '0', '0', '1', '0', '1', '1', '1', '1', '0', '1', '1', '1', '1', '0', '1', '0', '0', '1', '0', '0', '1', '0', '1', '0', '1', '1', '0', '1', '0', '1', '1', '1', '0', '1', '0', '1', '1', '1', '0', '0', '0', '0', '1', '0', '1', '1', '1', '0', '0']\n"
     ]
    }
   ],
   "source": [
    "#BLOCK 11 - create Bob's key\n",
    "\n",
    "bob_key = []\n",
    "for index in agreeing_indices:\n",
    "    bob_key.append(bob_bits[index])\n",
    "\n",
    "print(bob_key)\n",
    "# Add a print staement to see Bob's key"
   ]
  },
  {
   "cell_type": "code",
   "execution_count": 21,
   "id": "e1b51110-127e-4ebf-83ad-a011201d8394",
   "metadata": {},
   "outputs": [],
   "source": [
    "def encrypt_message(unencrypted_string, key):\n",
    "    # Convert ascii string to binary string\n",
    "    bits = bin(int(binascii.hexlify(unencrypted_string.encode('utf-8', 'surrogatepass')), 16))[2:]\n",
    "    bitstring = bits.zfill(8 * ((len(bits) + 7) // 8))\n",
    "    # created the encrypted string using the key\n",
    "    encrypted_string = \"\"\n",
    "    for i in range(len(bitstring)):\n",
    "        encrypted_string += str( (int(bitstring[i])^ int(key[i])) )\n",
    "    return encrypted_string\n",
    "    \n",
    "def decrypt_message(encrypted_bits, key):\n",
    "    # created the unencrypted string using the key\n",
    "    unencrypted_bits = \"\"\n",
    "    for i in range(len(encrypted_bits)):\n",
    "        unencrypted_bits += str( (int(encrypted_bits[i])^ int(key[i])) )\n",
    "    # Convert bitstring into\n",
    "    i = int(unencrypted_bits, 2)\n",
    "    hex_string = '%x' % i\n",
    "    n = len(hex_string)\n",
    "    bits = binascii.unhexlify(hex_string.zfill(n + (n & 1)))\n",
    "    unencrypted_string = bits.decode('utf-8', 'surrogatepass')\n",
    "    return unencrypted_string"
   ]
  },
  {
   "cell_type": "code",
   "execution_count": 30,
   "id": "5119f516-f368-4aeb-9969-41ef68e825f6",
   "metadata": {},
   "outputs": [
    {
     "name": "stdin",
     "output_type": "stream",
     "text": [
      "Please enter a message:  Science Olympiad 2021-2022 Roster:   Seniors:  Juan Alvarez - 4H (4 events) Adam Auer - 4D (3 events) Donovan Barcelona - 4I (3 events) Maxwell Kurjakovic - 4A (3 events) Sean Lyons - 4A (4 events) Jaden Oh - 4E (3 events) William Villasi - 4A (3 events)  Juniors: Robert Graves - 3B-1 (3 events) Jonathan Hartanto - 3B-2 (3 events) Daniel Jarka - 3C-1 (3 events) Aidan Puma - 3D-1 (4 events) Alex Zhindon-Romero - 3C-1 (3 events)  Sophomores:  Charles Scheuermann - 2A-2 (3 events) John Windisch - 2A-1 (3 events) Brian Witanowski - 2E-2 (3 events)\n"
     ]
    },
    {
     "name": "stdout",
     "output_type": "stream",
     "text": [
      "Original Message: Science Olympiad 2021-2022 Roster:   Seniors:  Juan Alvarez - 4H (4 events) Adam Auer - 4D (3 events) Donovan Barcelona - 4I (3 events) Maxwell Kurjakovic - 4A (3 events) Sean Lyons - 4A (4 events) Jaden Oh - 4E (3 events) William Villasi - 4A (3 events)  Juniors: Robert Graves - 3B-1 (3 events) Jonathan Hartanto - 3B-2 (3 events) Daniel Jarka - 3C-1 (3 events) Aidan Puma - 3D-1 (4 events) Alex Zhindon-Romero - 3C-1 (3 events)  Sophomores:  Charles Scheuermann - 2A-2 (3 events) John Windisch - 2A-1 (3 events) Brian Witanowski - 2E-2 (3 events)\n",
      "Encrypted message: 100001110001001000000011110100010000110000000011100000111000111000001011010111001100100011001100101011110011011111010000101000100001100011000110100001100110000010011111001111011011001111101010100010111101101101000111111110011000111100110001111111100010111101001001001101101100011011001011101010001110111010010000011001000000000001101001001010001101100110101100001111001000110001000010100011110010100110110000000011110010111010010111110110101001011111100010010010110111111010110101100000001000001001101000110000000001100001011111000111011000111001000101001001101101110010110110011010110011111100011001101110110010000001010110001101111010100001000101011100000101010100100011110111011101111111101011011110001110000001010100000010110001101101011110010110000011101010100101111111000011010001111101011000011101001110110000100100000001001000111100100110011010001001101000001110100111011001000110111000111001000000010100011011010100011111100011011011011110101101011000010010000010000101101011110001101000110000000111010111110111100111100011110000110110111110001011111001101011111110010110110111101010000101101000100111100110100101110010110101001101011110001101101111110101101111000111110110100110111000011100011100010101011110101110011110011101011100100111011001111001111001011000111010110111010010001010000100110001011101101100001101110011110001111011110100111110000101011110101110000011111110010111110011001001111010001101011010000101101011110001100101100100011010000100100111111110100000001111100110100100010111100110001110000011000110110110111000101110001110101001111011001010110110000011000110000110101001100001110010101011111011000101001111101101111100100110011000111011011011100100000100100100100011011011010011110001010110000010100110111001101110101011100001001110110000011101000000010001000010110101011110001100000010110101001001100101100011101010110010001001110111111010011010000011111000000010011010000101000001001110111010101100001001001010010110000000110000111101011000111010000011100110011011111011110001000101111101000000010001011110001111110100011010010110100010110100101010000010101110111000111110001010010010111000100110100101010000001111111000010111001110110010101101000010110001100100110001101100110111001100100011000101100100100001010111010000011101101000011100110011110011110111010000011010000110111111000000000010000010101100100001100001011101010100011001100100100010001011011111101001000011010001111111000010010101000111011011100101010011011010110110111010010010010100111110100010100010110111100100001111001001101111111110000101001000101100101010010010000010011111000100011101110011000001100010011111010010010001110011111011110100110110011011111110000111001110100011100111110010010001010101000011001101001010111010110101000111100011011010011100000000101111011001101001100110111010000101010111011001101101110101001000001110110000011010010111000001110001011101010110101110110100000001101000100011101001111101001010001010001000010000100101010100101001100000100110100100011101010001001100011011001011010011010100100000010101111011001100001001011100011011001011101110110010101001111010101101000110010111100111111000110110101010101000011100100100111011100111000011000100010000101010001000000110011000111111101110101000000101111010000110110110001000111000100111101110101011110101001101001110000011010101000110011000110011101100111110001100000001111111000100110110100101000010001110101111101101001000101001001011010111110100111111001010100110110011110111110001011111000010000011001110110100010101100010000011111000001100111111010110010111101101110111100010100011110110100100001011100011001011010000001011010000111011100011110011000110111011011010100101110101001000111000011111010110101010100101101101100111100011101010110011001110010010111001001010111100001100010100010000001110111001011101000010111110000111001101111101010100111100010011001100100000100100110101001111110010100111111001001000010111111010111001100100100100010101010111111000010110100101001000100000100001011001111001110011110001111001001111101000011001110001011100101011101100000110001000110000110100010011101100000000010100111010011011011000111001110101110101101111100001100010010011100010000101101011010111010011110001101000011110110000100101001001100010010011011111010110010110011011011000010110101010101100101101000100001001001001111000011010100101011001001111001100110011101010100001010110010000101110010000001100\n",
      "Decrypted message: Science Olympiad 2021-2022 Roster:   Seniors:  Juan Alvarez - 4H (4 events) Adam Auer - 4D (3 events) Donovan Barcelona - 4I (3 events) Maxwell Kurjakovic - 4A (3 events) Sean Lyons - 4A (4 events) Jaden Oh - 4E (3 events) William Villasi - 4A (3 events)  Juniors: Robert Graves - 3B-1 (3 events) Jonathan Hartanto - 3B-2 (3 events) Daniel Jarka - 3C-1 (3 events) Aidan Puma - 3D-1 (4 events) Alex Zhindon-Romero - 3C-1 (3 events)  Sophomores:  Charles Scheuermann - 2A-2 (3 events) John Windisch - 2A-1 (3 events) Brian Witanowski - 2E-2 (3 events)\n"
     ]
    }
   ],
   "source": [
    "message = input(\"Please enter a message: \")\n",
    "print(\"Original Message:\", message)\n",
    "bits = bin(int(binascii.hexlify(message.encode('utf-8', 'surrogatepass')), 16))[2:]\n",
    "bitstring = bits.zfill(8 * ((len(bits) + 7) // 8))\n",
    "\n",
    "alice_bits = [] #This list will store Alice's bits\n",
    "for i in range(3*len(bitstring)):  \n",
    "    alice_bits.append(str(getrandbits(1))) # The function getrandbits generates 1 random bit\n",
    "\n",
    "alice_bases = [] # List to store Alice's bases\n",
    "for i in range(3*len(bitstring)):\n",
    "    base = getrandbits(1)\n",
    "    if base == 0:\n",
    "        alice_bases.append(\"Z\")\n",
    "    else:\n",
    "        alice_bases.append(\"X\")\n",
    "\n",
    "encoded_qubits = []\n",
    "for i in range(3*len(bitstring)):\n",
    "    qc = QuantumCircuit(1,1)\n",
    "    if alice_bases[i] == \"Z\":\n",
    "        if alice_bits[i] == '0':\n",
    "            pass # We want nothing to happen here - the qubit is already in the state |0>\n",
    "\n",
    "        elif alice_bits[i] == '1':\n",
    "            qc.x(0) # Applying an X gate to change the qubit state to |1>\n",
    "            \n",
    "    elif alice_bases[i] == \"X\":\n",
    "        if alice_bits[i] == '0':\n",
    "            qc.h(0) # Applying an H gate to change the qubit state to |+>\n",
    "        elif alice_bits[i] == '1':\n",
    "            qc.x(0) # Applying an X and H gate to change the qubit state to |->\n",
    "            qc.h(0)\n",
    "            \n",
    "    encoded_qubits.append(qc) # Adding the qubit with the right state to the list of qubits that Alice will send Bob\n",
    "\n",
    "bob_bases = []\n",
    "for i in range(3*len(bitstring)):\n",
    "    bit = getrandbits(1)\n",
    "    if bit == 0:\n",
    "        bob_bases.append(\"Z\")\n",
    "    else:\n",
    "        bob_bases.append(\"X\")\n",
    "\n",
    "bob_bits = [] # List of Bob's bits generated from the results of Bob's measurements\n",
    "    \n",
    "for i in range(3*len(bitstring)):\n",
    "    qc = encoded_qubits[i]\n",
    "        \n",
    "    if bob_bases[i] == \"Z\": # Bob's basis is Z\n",
    "            qc.measure(0,0) #Code to measure in the Z basis\n",
    "        \n",
    "\n",
    "    elif bob_bases[i] == \"X\": #The case that bob_bases[i] is X\n",
    "            qc.h(0) #WRITE CODE HERE: Bob needs to add a gate here to correctly measure in the X basis. Which gate is this?  \n",
    "            qc.measure(0,0)  #Measurement in the X basis\n",
    "            \n",
    "            \n",
    "      # Now that the measurements have been added to the circuit, let's run them.\n",
    "    job = execute(qc, backend=Aer.get_backend('qasm_simulator'), shots = 1) \n",
    "    results = job.result()\n",
    "    counts = results.get_counts()\n",
    "    measured_bit = max(counts, key=counts.get)\n",
    "\n",
    "        # Append measured bit to Bob's measured bitstring\n",
    "    bob_bits.append(measured_bit) \n",
    "\n",
    "agreeing_indices = []\n",
    "    \n",
    "for i in range(3*len(bitstring)):\n",
    "    if alice_bases[i]==bob_bases[i]:\n",
    "        agreeing_indices.append(i)\n",
    "\n",
    "alice_key = []\n",
    "for index in agreeing_indices:\n",
    "    alice_key.append(alice_bits[index])\n",
    "\n",
    "bob_key = []\n",
    "for index in agreeing_indices:\n",
    "    bob_key.append(bob_bits[index])\n",
    "\n",
    "\n",
    "\n",
    "# Call the function encrypt_message with the right inputs\n",
    "encrypted_message = encrypt_message(message,alice_key)\n",
    "print(\"Encrypted message:\", encrypted_message)\n",
    "\n",
    "# Call the function deencrypt_message with the right inputs\n",
    "decrypted_message = decrypt_message(encrypted_message, bob_key)\n",
    "print(\"Decrypted message:\", decrypted_message)"
   ]
  },
  {
   "cell_type": "code",
   "execution_count": null,
   "id": "e851a33d-d73f-4c27-8e67-2bd394e6234e",
   "metadata": {},
   "outputs": [],
   "source": []
  },
  {
   "cell_type": "code",
   "execution_count": null,
   "id": "4ea77241-8d48-46ac-9be2-5d1bef20f68e",
   "metadata": {},
   "outputs": [],
   "source": []
  }
 ],
 "metadata": {
  "kernelspec": {
   "display_name": "Python 3 [QI-SDK]",
   "language": "python",
   "name": "python3_qutech_qi_6jdv1w"
  },
  "language_info": {
   "codemirror_mode": {
    "name": "ipython",
    "version": 3
   },
   "file_extension": ".py",
   "mimetype": "text/x-python",
   "name": "python",
   "nbconvert_exporter": "python",
   "pygments_lexer": "ipython3",
   "version": "3.9.7"
  }
 },
 "nbformat": 4,
 "nbformat_minor": 5
}
