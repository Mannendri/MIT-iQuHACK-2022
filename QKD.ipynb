{
 "cells": [
  {
   "cell_type": "code",
   "execution_count": null,
   "id": "276c686f-87de-433c-9350-039c3c40e83b",
   "metadata": {},
   "outputs": [],
   "source": [
    "!pip install qiskit[visualization]\n",
    "! pip install quantuminspire"
   ]
  },
  {
   "cell_type": "code",
   "execution_count": 1,
   "id": "8cd3fc6e-2758-4645-a225-ca2f33d6508a",
   "metadata": {},
   "outputs": [
    {
     "name": "stdout",
     "output_type": "stream",
     "text": [
      "Enter email:\n",
      "Enter password\n"
     ]
    }
   ],
   "source": [
    "import numpy as np\n",
    "# Importing standard Qiskit libraries\n",
    "from qiskit import QuantumCircuit, execute, transpile, Aer, IBMQ\n",
    "from qiskit.tools.jupyter import *\n",
    "from qiskit.visualization import *\n",
    "from random import getrandbits\n",
    "import binascii\n",
    "import time\n",
    "import os\n",
    "from IPython.display import display\n",
    "\n",
    "from qiskit import QuantumCircuit, ClassicalRegister, QuantumRegister, execute\n",
    "from qiskit.tools.visualization import plot_histogram, circuit_drawer\n",
    "\n",
    "from quantuminspire.credentials import get_authentication\n",
    "from quantuminspire.qiskit import QI\n",
    "from getpass import getpass\n",
    "\n",
    "QI_URL = os.getenv('QI_URL', 'https://api.quantum-inspire.com/')\n",
    "\n",
    "def get_authentication():\n",
    "    \"\"\"Gets the authentication for connecting to the\n",
    "       Quantum Inspire API.\n",
    "    \"\"\"\n",
    "    email = \"bolivares8090@gmail.com\"\n",
    "    password = \"RNP25SeOmHlt7sZyrMx1\"\n",
    "    return [email, password] \n",
    "\n",
    "\n",
    "if 'authentication' not in vars().keys():\n",
    "    authentication = get_authentication()\n",
    "QI.set_authentication_details(*authentication)\n",
    "qi_backend = QI.get_backend('Spin-2')"
   ]
  },
  {
   "cell_type": "code",
   "execution_count": 2,
   "id": "e1b51110-127e-4ebf-83ad-a011201d8394",
   "metadata": {},
   "outputs": [],
   "source": [
    "def encrypt_message(unencrypted_string, key):\n",
    "    # Convert ascii string to binary string\n",
    "    bits = bin(int(binascii.hexlify(unencrypted_string.encode('utf-8', 'surrogatepass')), 16))[2:]\n",
    "    bitstring = bits.zfill(8 * ((len(bits) + 7) // 8))\n",
    "    # created the encrypted string using the key\n",
    "    encrypted_string = \"\"\n",
    "    for i in range(len(bitstring)):\n",
    "        encrypted_string += str( (int(bitstring[i])^ int(key[i])) )\n",
    "    return encrypted_string\n",
    "    \n",
    "def decrypt_message(encrypted_bits, key):\n",
    "    # created the unencrypted string using the key\n",
    "    unencrypted_bits = \"\"\n",
    "    for i in range(len(encrypted_bits)):\n",
    "        unencrypted_bits += str( (int(encrypted_bits[i])^ int(key[i])) )\n",
    "    # Convert bitstring into\n",
    "    i = int(unencrypted_bits, 2)\n",
    "    hex_string = '%x' % i\n",
    "    n = len(hex_string)\n",
    "    bits = binascii.unhexlify(hex_string.zfill(n + (n & 1)))\n",
    "    unencrypted_string = bits.decode('utf-8', 'surrogatepass')\n",
    "    return unencrypted_string"
   ]
  },
  {
   "cell_type": "code",
   "execution_count": null,
   "id": "5119f516-f368-4aeb-9969-41ef68e825f6",
   "metadata": {},
   "outputs": [
    {
     "name": "stdin",
     "output_type": "stream",
     "text": [
      "Please enter a message:  vuiugruguvgry\n"
     ]
    },
    {
     "name": "stdout",
     "output_type": "stream",
     "text": [
      "Original Message: vuiugruguvgry\n"
     ]
    }
   ],
   "source": [
    "\n",
    "message = input(\"Please enter a message: \")\n",
    "print(\"Original Message:\", message)\n",
    "bits = bin(int(binascii.hexlify(message.encode('utf-8', 'surrogatepass')), 16))[2:]\n",
    "bitstring = bits.zfill(8 * ((len(bits) + 7) // 8))\n",
    "\n",
    "alice_bits = [] #This list will store Alice's bits\n",
    "for i in range(3*len(bitstring)):  \n",
    "    alice_bits.append(str(getrandbits(1))) \n",
    "\n",
    "alice_bases = [] # List to store Alice's bases\n",
    "for i in range(3*len(bitstring)):\n",
    "    base = getrandbits(1)\n",
    "    if base == 0:\n",
    "        alice_bases.append(\"Z\")\n",
    "    else:\n",
    "        alice_bases.append(\"X\")\n",
    "\n",
    "encoded_qubits = []\n",
    "for i in range(3*len(bitstring)):\n",
    "    qc = QuantumCircuit(1,1)\n",
    "    if alice_bases[i] == \"Z\":\n",
    "        if alice_bits[i] == '0':\n",
    "            pass # We want nothing to happen here - the qubit is already in the state |0>\n",
    "\n",
    "        elif alice_bits[i] == '1':\n",
    "            qc.x(0) # Applying an X gate to change the qubit state to |1>\n",
    "            \n",
    "    elif alice_bases[i] == \"X\":\n",
    "        if alice_bits[i] == '0':\n",
    "            qc.h(0) # Applying an H gate to change the qubit state to |+>\n",
    "        elif alice_bits[i] == '1':\n",
    "            qc.x(0) # Applying an X and H gate to change the qubit state to |->\n",
    "            qc.h(0)\n",
    "            \n",
    "    encoded_qubits.append(qc) # Adding the qubit with the right state to the list of qubits that Alice will send Bob\n",
    "\n",
    "bob_bases = []\n",
    "for i in range(3*len(bitstring)):\n",
    "    bit = getrandbits(1)\n",
    "    if bit == 0:\n",
    "        bob_bases.append(\"Z\")\n",
    "    else:\n",
    "        bob_bases.append(\"X\")\n",
    "\n",
    "bob_bits = [] # List of Bob's bits generated from the results of Bob's measurements\n",
    "    \n",
    "for i in range(3*len(bitstring)):\n",
    "    qc = encoded_qubits[i]\n",
    "        \n",
    "    if bob_bases[i] == \"Z\": # Bob's basis is Z\n",
    "            qc.measure(0,0) #Code to measure in the Z basis\n",
    "        \n",
    "\n",
    "    elif bob_bases[i] == \"X\": #The case that bob_bases[i] is X\n",
    "            qc.h(0) #WRITE CODE HERE: Bob needs to add a gate here to correctly measure in the X basis. Which gate is this?  \n",
    "            qc.measure(0,0)  #Measurement in the X basis\n",
    "            \n",
    "            \n",
    "      # Now that the measurements have been added to the circuit, let's run them.\n",
    "    \n",
    "    \n",
    "    job = execute(qc, backend = qi_backend, shots = 1) \n",
    "    results = job.result()\n",
    "    counts = results.get_counts()\n",
    "    measured_bit = max(counts, key=counts.get)\n",
    "\n",
    "        # Append measured bit to Bob's measured bitstring\n",
    "    bob_bits.append(measured_bit) \n",
    "\n",
    "agreeing_indices = []\n",
    "    \n",
    "for i in range(3*len(bitstring)):\n",
    "    if alice_bases[i]==bob_bases[i]:\n",
    "        agreeing_indices.append(i)\n",
    "\n",
    "alice_key = []\n",
    "for index in agreeing_indices:\n",
    "    alice_key.append(alice_bits[index])\n",
    "\n",
    "bob_key = []\n",
    "for index in agreeing_indices:\n",
    "    bob_key.append(bob_bits[index])\n",
    "\n",
    "# Call the function encrypt_message with the right inputs\n",
    "encrypted_message = encrypt_message(message,alice_key)\n",
    "print(\"Encrypted message:\", encrypted_message)\n",
    "\n",
    "# Call the function deencrypt_message with the right inputs\n",
    "decrypted_message = decrypt_message(encrypted_message, bob_key)\n",
    "print(\"Decrypted message:\", decrypted_message)"
   ]
  },
  {
   "cell_type": "code",
   "execution_count": null,
   "id": "4ea77241-8d48-46ac-9be2-5d1bef20f68e",
   "metadata": {},
   "outputs": [],
   "source": []
  },
  {
   "cell_type": "code",
   "execution_count": null,
   "id": "304fafa5-ce50-4aad-8537-0aa2c6e3fb2e",
   "metadata": {},
   "outputs": [],
   "source": []
  },
  {
   "cell_type": "code",
   "execution_count": null,
   "id": "aedc1e30-a2e7-4582-81f4-c6639f552a40",
   "metadata": {},
   "outputs": [],
   "source": []
  }
 ],
 "metadata": {
  "kernelspec": {
   "display_name": "Python 3 [QI-SDK]",
   "language": "python",
   "name": "python3_qutech_qi_6jdv1w"
  },
  "language_info": {
   "codemirror_mode": {
    "name": "ipython",
    "version": 3
   },
   "file_extension": ".py",
   "mimetype": "text/x-python",
   "name": "python",
   "nbconvert_exporter": "python",
   "pygments_lexer": "ipython3",
   "version": "3.9.7"
  }
 },
 "nbformat": 4,
 "nbformat_minor": 5
}
