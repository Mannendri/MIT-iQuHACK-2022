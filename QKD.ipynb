{
 "cells": [
  {
   "cell_type": "code",
   "execution_count": 1,
   "id": "7e1896ec-a759-4307-853c-dffa93880d57",
   "metadata": {},
   "outputs": [
    {
     "data": {
      "image/png": "[encoded data removed]",
      "text/plain": [
       "<Figure size 133.526x144.48 with 1 Axes>"
      ]
     },
     "execution_count": 1,
     "metadata": {},
     "output_type": "execute_result"
    }
   ],
   "source": [
    "import qiskit\n",
    "from qiskit import *\n",
    "from qiskit import Aer\n",
    "\n",
    "# Create a Quantum Circuit acting on a single qubit\n",
    "circ = QuantumCircuit(1,1)\n",
    "\n",
    "# Add a Hadamard (H) gate on qubit 0, putting this qubit in superposition.\n",
    "circ.h(0)\n",
    "# circ.draw()\n",
    "circ.draw(output='mpl')\n",
    "\n",
    "\n",
    "#the second wire represent"
   ]
  },
  {
   "cell_type": "code",
   "execution_count": null,
   "id": "2b3c424f-46bc-4e1b-8aa7-29e336485750",
   "metadata": {},
   "outputs": [],
   "source": []
  },
  {
   "cell_type": "code",
   "execution_count": null,
   "id": "bdfb99ec-2736-4203-9cf2-79c5e48e7c38",
   "metadata": {},
   "outputs": [],
   "source": []
  }
 ],
 "metadata": {
  "kernelspec": {
   "display_name": "Python 3 [QI-SDK]",
   "language": "python",
   "name": "python3_qutech_qi_6jdv1w"
  },
  "language_info": {
   "codemirror_mode": {
    "name": "ipython",
    "version": 3
   },
   "file_extension": ".py",
   "mimetype": "text/x-python",
   "name": "python",
   "nbconvert_exporter": "python",
   "pygments_lexer": "ipython3",
   "version": "3.9.7"
  }
 },
 "nbformat": 4,
 "nbformat_minor": 5
}
